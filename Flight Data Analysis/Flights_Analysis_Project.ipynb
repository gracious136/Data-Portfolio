{
  "nbformat": 4,
  "nbformat_minor": 0,
  "metadata": {
    "colab": {
      "provenance": []
    },
    "kernelspec": {
      "name": "python3",
      "display_name": "Python 3"
    },
    "language_info": {
      "name": "python"
    }
  },
  "cells": [
    {
      "cell_type": "markdown",
      "source": [
        "# Project Overview: Analysis of Flight Data for Traffic Analysis and Flight Planning\n",
        "\n",
        "The goal of this project is to analyze flight data from five airports in the Los Angeles area to gain insights into traffic patterns from 2018. The project involves two main functions that leverage the flight data:\n",
        "\n",
        "\n",
        "\n",
        "1.   Top 3 Early Flight Carriers (carriers_on_time()):\n",
        "\n",
        "> This function determines the top three early flight carriers on a given day of the year and a desired destination. By analyzing historical flight data, it identifies the airlines that consistently operate early morning flights to the specified destination. This information can be valuable to see airlines that are puctual with regard to a desired destination.\n",
        "\n",
        "\n",
        "2.   Minimum People Traffic Analysis (crowd_avoidance()):\n",
        "\n",
        "> The second function focuses on identifying the best five days and corresponding time periods in a given month with minimal people traffic at an airport of destination. By analyzing historical flight data and passenger traffic patterns, it pinpoints the days and time periods when there is likely to be lower passenger volume at the specified airport. This information can be useful for airlines and passengers to plan travel during less crowded periods, ensuring a smoother and more comfortable experience.\n",
        "\n",
        "\n",
        "Los Angeles Airports are:\n",
        "\n",
        "* Los Angeles International Airport (LAX)\n",
        "* Ontario International Airport (ONT)\n",
        "* John Wayne Airport (SNA)\n",
        "* Hollywood Burbank Airport (BUR)\n",
        "* Long Beach Airport (LGB)\n",
        "\n",
        "Dataset information:\n",
        "\n",
        "* fl_datetime: flight date time\n",
        "* tailnum: Plane tail number.\n",
        "* carrier: Two letter carrier abbreviation.\n",
        "* origin, dest: Origin and destination.\n",
        "* dep_time, arr_time: Actual departure and arrival times (format HHMM or HMM), local tz.\n",
        "* dep_delay, arr_delay: Departure and arrival delays, in minutes. Negative times represent early departures/arrivals.\n",
        "* air_time: Amount of time spent in the air, in minutes.\n",
        "\n",
        "\n",
        "\n"
      ],
      "metadata": {
        "id": "mI0p5OWEP8ej"
      }
    },
    {
      "cell_type": "code",
      "execution_count": null,
      "metadata": {
        "id": "GogIVO_YsG7C"
      },
      "outputs": [],
      "source": [
        "import pandas as pd\n",
        "import numpy as np\n",
        "\n",
        "# load data\n",
        "# This code is made to load our data stored on Google Drive\n",
        "def gd_path(file_id):\n",
        "    \"\"\"Generate a shareable link from Google Drive file id.\"\"\"\n",
        "    return f\"https://drive.google.com/uc?export=download&id={file_id}\"\n",
        "\n",
        "# Google Drive file ids\n",
        "files_id = {\n",
        "    \"LAflights\": \"10kNZusetcMbSQetkC8rJLI4qtMFgbwmQ\"\n",
        "}\n",
        "\n",
        "# Read data from Google Drive\n",
        "LAflights = pd.read_csv(gd_path(files_id[\"LAflights\"]), sep=\",\")"
      ]
    },
    {
      "cell_type": "markdown",
      "source": [
        "### Carriers on time: given a destination and a departure date, returns the three carriers with a lower departure delay in average."
      ],
      "metadata": {
        "id": "ve19MGlEs5LW"
      }
    },
    {
      "cell_type": "code",
      "source": [
        "def carriers_on_time():\n",
        "\n",
        "  while True:\n",
        "    look_date = input('Enter the date you are interested in. use this format (YYYY-MM-DD):\\n')\n",
        "\n",
        "    if len(look_date) == 10 and look_date[4] == look_date[7] == '-':\n",
        "      look_year = look_date[:4]\n",
        "      look_month = look_date[5:7]\n",
        "      look_day = look_date[8:]\n",
        "\n",
        "      if look_year.isdigit() and look_month.isdigit() and look_day.isdigit():\n",
        "        pass\n",
        "      else:\n",
        "        print('\\u26A0 Invalid Date Format. Please run the code again Enter Date (YYYY-MM-DD) \\u26A0')\n",
        "        break\n",
        "\n",
        "    else:\n",
        "      print('\\u26A0 Invalid Date Format. Please run the code again and Enter Date (YYYY-MM-DD) \\u26A0')\n",
        "      break\n",
        "\n",
        "\n",
        "    airports = np.sort(LAflights.dest.unique())\n",
        "    print(f'\\nThis is a list of the destination airports\\n{airports}')\n",
        "    destination = input('\\nEnter your destination in three letters: ').upper()\n",
        "\n",
        "    if destination in airports and len(destination)==3:\n",
        "      pass\n",
        "    else:\n",
        "      print('\\u26A0 Invalid Destination airport \\u26A0')\n",
        "      break\n",
        "\n",
        "    results = LAflights.assign(flight_date = pd.to_datetime(LAflights['fl_datetime']).dt.date)\\\n",
        "    .loc[lambda record : (record['flight_date']==pd.to_datetime(look_date)) & (record['dest']== destination)]\\\n",
        "    .groupby(['flight_date', 'dest','op_carrier'])\\\n",
        "    .agg({'dep_delay':'mean'}).round({'dep_delay':0}).sort_values(by='dep_delay', ascending=True)\\\n",
        "    .rename(columns={'dep_delay':'average_departure_delay'})\\\n",
        "    .head(3)\n",
        "\n",
        "\n",
        "    return results\n",
        "\n",
        "\n",
        "carriers_on_time()"
      ],
      "metadata": {
        "id": "HmRs4yGR9qG3"
      },
      "execution_count": null,
      "outputs": []
    },
    {
      "cell_type": "markdown",
      "source": [
        "### Crowd avoidance: given a destination and a month, recommend which are the 5 best days and time range (morning, afternoon, evening and night) where there is a low number of flights departing from the airport, so there will be less people on there. The time ranges will be:\n",
        "\n",
        "1. Morning: 5 am to 12 pm (noon)\n",
        "2. Afternoon: 12 pm to 5 pm\n",
        "3. Evening: 5 pm to 9 pm\n",
        "4. Night: 9 pm to 4 am\n"
      ],
      "metadata": {
        "id": "--hHFqkCvB6d"
      }
    },
    {
      "cell_type": "code",
      "source": [
        "def crowd_avoidance():\n",
        "\n",
        "  while True:\n",
        "    valid_months =['january', 'february', 'march', 'april', 'may', 'june', 'july', 'august', 'september', 'october', 'november', 'december']\n",
        "\n",
        "\n",
        "    travel_month = input('Enter your desired month in full (e.g January, March etc):\\n').title()\n",
        "\n",
        "    if travel_month.lower() in valid_months:\n",
        "      pass\n",
        "    else:\n",
        "      print('\\u26A0 Wrong Month Format. Please run the code again Enter month (e.g January, March etc) \\u26A0')\n",
        "      break\n",
        "\n",
        "    airports = np.sort(LAflights.dest.unique())\n",
        "    destination = input('Enter your destination in three letters: ').upper()\n",
        "\n",
        "    if destination in airports and len(destination)==3:\n",
        "      pass\n",
        "    else:\n",
        "      print('\\u26A0 Invalid Destination airport \\u26A0')\n",
        "      break\n",
        "\n",
        "    results = LAflights\\\n",
        "                    .assign(period = ['Morning' if 5 <= time <=12 else 'Afternoon'\n",
        "                    if 12 <= time <=17 else 'Evening' if 17 <= time <= 21 else 'Night'\n",
        "                    for time in pd.to_datetime(LAflights['fl_datetime']).dt.hour ])\\\n",
        "                    .assign(flight_date = pd.to_datetime(LAflights['fl_datetime']).dt.date)\\\n",
        "                    .assign(flight_month = pd.to_datetime(LAflights['fl_datetime']).dt.strftime('%B'))\\\n",
        "                    .loc[lambda record : (record['flight_month']== travel_month) & ((record['dest']== destination) | (record['origin']== destination))]\\\n",
        "                    .groupby(['flight_month', 'flight_date','period']).agg({'origin' : 'count'})\\\n",
        "                    .groupby(['flight_date', 'period']).agg({'origin':'sum'})\\\n",
        "                    .sort_values(by='origin', ascending=True)\\\n",
        "                    .rename(columns={'origin' : 'total_flights'})\\\n",
        "                    .head(5)\n",
        "\n",
        "    return results\n",
        "\n",
        "\n",
        "crowd_avoidance()"
      ],
      "metadata": {
        "id": "hJihrIYltu0H"
      },
      "execution_count": null,
      "outputs": []
    }
  ]
}